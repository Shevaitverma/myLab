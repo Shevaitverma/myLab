{
 "cells": [
  {
   "cell_type": "code",
   "execution_count": 1,
   "id": "db2fdbf0",
   "metadata": {},
   "outputs": [
    {
     "name": "stdout",
     "output_type": "stream",
     "text": [
      "  ***  \n",
      " *   * \n",
      " *   * \n",
      " ***** \n",
      " *   * \n",
      " *   * \n",
      " *   * \n",
      "\n"
     ]
    }
   ],
   "source": [
    "result_str=\"\";\n",
    "for row in range(0,7):\n",
    "    for column in range(0,7):\n",
    "        if (((column == 1 or column == 5) and row != 0) or ((row ==0 or row == 3) and (column > 1 and column < 5))):\n",
    "            result_str=result_str+\"*\" \n",
    "        else: \n",
    "            result_str=result_str+\" \" \n",
    "    result_str=result_str+\"\\n\" \n",
    "print(result_str);"
   ]
  },
  {
   "cell_type": "code",
   "execution_count": null,
   "id": "37d2c6bc",
   "metadata": {},
   "outputs": [],
   "source": []
  }
 ],
 "metadata": {
  "kernelspec": {
   "display_name": "Python 3 (ipykernel)",
   "language": "python",
   "name": "python3"
  },
  "language_info": {
   "codemirror_mode": {
    "name": "ipython",
    "version": 3
   },
   "file_extension": ".py",
   "mimetype": "text/x-python",
   "name": "python",
   "nbconvert_exporter": "python",
   "pygments_lexer": "ipython3",
   "version": "3.10.9"
  }
 },
 "nbformat": 4,
 "nbformat_minor": 5
}
