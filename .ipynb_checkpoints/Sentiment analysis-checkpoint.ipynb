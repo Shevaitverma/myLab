{
 "cells": [
  {
   "cell_type": "code",
   "execution_count": 1,
   "id": "e43744bc",
   "metadata": {},
   "outputs": [],
   "source": [
    "import nltk"
   ]
  },
  {
   "cell_type": "code",
   "execution_count": 2,
   "id": "ea85efdd",
   "metadata": {},
   "outputs": [],
   "source": [
    "from nltk.sentiment import SentimentIntensityAnalyzer"
   ]
  },
  {
   "cell_type": "code",
   "execution_count": 3,
   "id": "7cb98011",
   "metadata": {},
   "outputs": [
    {
     "name": "stderr",
     "output_type": "stream",
     "text": [
      "[nltk_data] Downloading package vader_lexicon to\n",
      "[nltk_data]     C:\\Users\\sheva\\AppData\\Roaming\\nltk_data...\n",
      "[nltk_data]   Package vader_lexicon is already up-to-date!\n"
     ]
    },
    {
     "data": {
      "text/plain": [
       "True"
      ]
     },
     "execution_count": 3,
     "metadata": {},
     "output_type": "execute_result"
    }
   ],
   "source": [
    "nltk.download('vader_lexicon')\n"
   ]
  },
  {
   "cell_type": "code",
   "execution_count": 4,
   "id": "d937f32d",
   "metadata": {},
   "outputs": [],
   "source": [
    "texts = [\"I love working with Python!\", \n",
    "         \"The weather is terrible today.\",\n",
    "         \"This movie is absolutely amazing!\",\n",
    "         \"I don't like this restaurant at all.\"]\n",
    "\n"
   ]
  },
  {
   "cell_type": "code",
   "execution_count": 5,
   "id": "a58f2c78",
   "metadata": {},
   "outputs": [],
   "source": [
    "analyzer = SentimentIntensityAnalyzer()"
   ]
  },
  {
   "cell_type": "code",
   "execution_count": 6,
   "id": "2df8f608",
   "metadata": {},
   "outputs": [
    {
     "name": "stdout",
     "output_type": "stream",
     "text": [
      "Text:  I love working with Python!\n",
      "Sentiment Score:  0.6696\n",
      "\n",
      "\n",
      "Text:  The weather is terrible today.\n",
      "Sentiment Score:  -0.4767\n",
      "\n",
      "\n",
      "Text:  This movie is absolutely amazing!\n",
      "Sentiment Score:  0.6581\n",
      "\n",
      "\n",
      "Text:  I don't like this restaurant at all.\n",
      "Sentiment Score:  -0.2755\n",
      "\n",
      "\n"
     ]
    }
   ],
   "source": [
    "for text in texts:\n",
    "    sentiment = analyzer.polarity_scores(text)\n",
    "    print(\"Text: \", text)\n",
    "    print(\"Sentiment Score: \", sentiment['compound'])\n",
    "    print(\"\\n\")\n"
   ]
  },
  {
   "cell_type": "code",
   "execution_count": null,
   "id": "eb0a4b46",
   "metadata": {},
   "outputs": [],
   "source": []
  }
 ],
 "metadata": {
  "kernelspec": {
   "display_name": "Python 3 (ipykernel)",
   "language": "python",
   "name": "python3"
  },
  "language_info": {
   "codemirror_mode": {
    "name": "ipython",
    "version": 3
   },
   "file_extension": ".py",
   "mimetype": "text/x-python",
   "name": "python",
   "nbconvert_exporter": "python",
   "pygments_lexer": "ipython3",
   "version": "3.10.9"
  }
 },
 "nbformat": 4,
 "nbformat_minor": 5
}
